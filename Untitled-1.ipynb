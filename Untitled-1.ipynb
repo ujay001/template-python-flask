{
 "cells": [
  {
   "cell_type": "code",
   "execution_count": null,
   "metadata": {},
   "outputs": [],
   "source": [
    "# Import libraries\n",
    "import simple_salesforce as ssf\n",
    "from simple_salesforce import format_soql\n",
    "import pandas as pd\n",
    "\n",
    "# Create the connection\n",
    "session_id, instance = ssf.SalesforceLogin(username='ulysses.jayakar@unfi.com.mybiz.selfservqa', password='Sadmin@12345', security_token='',domain='test')\n",
    "sf_ = ssf.Salesforce(instance=instance, session_id=session_id)\n"
   ]
  },
  {
   "cell_type": "code",
   "execution_count": null,
   "metadata": {},
   "outputs": [],
   "source": [
    "## Get Case Records\n",
    "\n",
    "# caseQueryStr = '''SELECT Id,CaseNumber, (SELECT Id, Invoiced_Item_Brand__c from Inquiry_Products__r)  FROM Case\n",
    "# WHERE createddate=today'''\n",
    "\n",
    "caseQueryStr = \"select Id,CaseNumber,RequestType__c from case where createddate=yesterday \"\n",
    "\n",
    "cdata = sf_.bulk.Case.query(caseQueryStr)\n",
    "\n",
    "ctable = pd.DataFrame(cdata)"
   ]
  },
  {
   "cell_type": "code",
   "execution_count": null,
   "metadata": {},
   "outputs": [],
   "source": [
    "## Get Related Product Records\n",
    "productQeuryStr = format_soql('''SELECT Invoiced_Item_Brand__c, Id,Name, Case__c  FROM Inquiry_Product__c  \n",
    "WHERE Case__c IN {} ''', list(ctable[\"Id\"]))\n",
    "\n",
    "pdata = sf_.bulk.Inquiry_Product__c.query(productQeuryStr)\n",
    "\n",
    "ptable = pd.DataFrame(pdata)\n"
   ]
  },
  {
   "cell_type": "code",
   "execution_count": null,
   "metadata": {},
   "outputs": [],
   "source": [
    "## Merge the two table\n",
    "finalTable = pd.merge(left=ctable, right=ptable,left_on='Id', right_on='Case__c', how='left')"
   ]
  },
  {
   "cell_type": "code",
   "execution_count": null,
   "metadata": {},
   "outputs": [],
   "source": [
    "## Columns Rename in table\n",
    "\n",
    "finalTable.rename({'CaseNumber':'Case Number','Invoiced_Item_Brand__c':'Invoiced Item Brand'},axis=1, inplace=True)\n",
    "\n",
    "#Export selected columns to CSV\n",
    "finalTable[['Case Number','Name','Invoiced Item Brand','Case__c']].to_csv('mytestfile.csv',index=False)"
   ]
  },
  {
   "cell_type": "code",
   "execution_count": null,
   "metadata": {},
   "outputs": [],
   "source": [
    "finalTable"
   ]
  },
  {
   "cell_type": "code",
   "execution_count": null,
   "metadata": {},
   "outputs": [],
   "source": []
  }
 ],
 "metadata": {
  "kernelspec": {
   "display_name": "Python 3.8.12 64-bit ('3.8.12')",
   "language": "python",
   "name": "python3"
  },
  "language_info": {
   "codemirror_mode": {
    "name": "ipython",
    "version": 3
   },
   "file_extension": ".py",
   "mimetype": "text/x-python",
   "name": "python",
   "nbconvert_exporter": "python",
   "pygments_lexer": "ipython3",
   "version": "3.8.12"
  },
  "orig_nbformat": 4,
  "vscode": {
   "interpreter": {
    "hash": "8b8334dab9339717f727a1deaf837b322d7a41c20d15cc86be99a8e69ceec8ce"
   }
  }
 },
 "nbformat": 4,
 "nbformat_minor": 2
}
